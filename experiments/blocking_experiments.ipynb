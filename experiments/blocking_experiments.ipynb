{
 "cells": [
  {
   "metadata": {
    "ExecuteTime": {
     "end_time": "2025-06-22T22:37:48.327345Z",
     "start_time": "2025-06-22T22:37:48.307351Z"
    }
   },
   "cell_type": "code",
   "source": [
    "import sys\n",
    "import subprocess\n",
    "import json\n",
    "import os\n",
    "import matplotlib.pyplot as plt\n",
    "import logging\n",
    "from functools import reduce\n",
    "\n",
    "# Disable logging of the program in the notebook\n",
    "os.environ[\"LOGLEVEL\"] = \"CRITICAL\"\n",
    "\n",
    "logging.basicConfig()\n",
    "logging.root.setLevel(logging.INFO)\n",
    "logging.basicConfig(level=logging.INFO)\n",
    "\n",
    "logger = logging.getLogger('__main__')\n",
    "logger.setLevel(os.environ.get(\"LOGLEVEL\", logging.FATAL))\n",
    "\n",
    "pybooklogger = logging.getLogger('pybook')\n",
    "pybooklogger.setLevel(logging.INFO)\n",
    "\n",
    "from generation import generate\n",
    "from parseRePEAT import *"
   ],
   "id": "d862d649c664e6ac",
   "outputs": [],
   "execution_count": 2
  },
  {
   "metadata": {
    "ExecuteTime": {
     "end_time": "2025-06-22T22:37:51.651740Z",
     "start_time": "2025-06-22T22:37:51.629706Z"
    }
   },
   "cell_type": "code",
   "source": [
    "previous_beta = 0\n",
    "\n",
    "def plot_atf(segments, label, color, eatfs, fig, axs):\n",
    "    global previous_beta\n",
    "    line = None\n",
    "    for (x0, x1, y0, y1) in segments:\n",
    "        if x0 == \"-inf\" and x1 != \"inf\" and y1 != \"inf\":\n",
    "            axs[0].hlines(float(y1), 0, float(x1), colors=color)\n",
    "        line, = axs[0].plot([float(x0), float(x1)], [float(y0), float(y1)], color=color)\n",
    "    line.set_label(label) if line is not None else None\n",
    "\n",
    "    for (zeta, alpha, beta, delta, gammas) in list(eatfs.values())[0]:\n",
    "        min_gammas = [float(gamma[0]) for gamma in gammas]\n",
    "        min_gamma = sum(min_gammas)\n",
    "\n",
    "        length_edge = max(0.0, float(beta)-float(alpha))\n",
    "        max_gammas = [float(gamma[1]) for gamma in gammas]\n",
    "        max_gamma = sum(max_gammas)\n",
    "        alpha = float(alpha)\n",
    "        beta = float(beta)\n",
    "        gamma_diff = max_gamma - min_gamma\n",
    "        if length_edge > gamma_diff:\n",
    "            axs[1].plot([alpha, beta - gamma_diff], [min_gamma, min_gamma], color=color)\n",
    "            alpha = beta - gamma_diff\n",
    "\n",
    "        if alpha <= beta:\n",
    "            axs[1].plot([previous_beta, alpha], [min_gamma, min_gamma], color=color)\n",
    "            axs[1].plot([alpha, beta], [min_gamma, max_gamma], color=color)\n",
    "        else:\n",
    "            axs[1].plot([previous_beta, beta - (gamma_diff)], [min_gamma, min_gamma], color=color)\n",
    "            axs[1].plot([beta - (gamma_diff), beta], [min_gamma, max_gamma], color=color)\n",
    "        # axs[1].plot([float(alpha), float(beta)], [min_gammas, max_gammas], color=color)\n",
    "        previous_beta = beta\n",
    "\n",
    "        pybooklogger.info(f\"{alpha}, {beta}, {gammas}, {min_gammas} - {max_gammas}\")\n",
    "\n",
    "\n",
    "station_maps = {}\n",
    "def cache_station_map(layout):\n",
    "    if layout not in station_maps:\n",
    "        station_maps[layout] = generate.create_station_map(layout)\n",
    "    return station_maps[layout]\n",
    "    \n",
    "\n",
    "def generate_intervals(max_buffer, use_recovery_time, layout, scenario, agent, agent_speed, move, fig, axs, color, label=None):\n",
    "    # Generate intervals\n",
    "    # generate.time_safe_intervals_and_write(layout, scenario, agent[\"trainNumber\"], agent_speed, \"output\", max_buffer, use_recovery_time)\n",
    "    pybooklogger.info(f\" -------------------- {label} -------------------- \")\n",
    "    global previous_beta\n",
    "    previous_beta = 0\n",
    "    station_map = cache_station_map(layout)\n",
    "    move[\"startTime\"] = 0\n",
    "    start = station_map[move[\"startLocation\"]]   if move[\"startLocation\"] in station_map else move[\"startLocation\"]\n",
    "    end =   station_map[move[\"endLocation\"]]     if move[\"endLocation\"]   in station_map else move[\"endLocation\"]\n",
    "    generate.time_safe_intervals_and_write(layout, scenario, -1, agent_speed, \"output\", max_buffer, use_recovery_time, destination=end)\n",
    "    timeout = 600\n",
    "    try:\n",
    "        # proc = subprocess.run([\"atsipp.exe\", \"--start\", start, \"--goal\", \"r-14\", \"--edgegraph\", \"output\", \"--search\", \"repeat\", \"--startTime\", str(move[\"startTime\"])], timeout=20, stdout=subprocess.PIPE, stderr=subprocess.DEVNULL)\n",
    "        proc = subprocess.run([\"\"\"C:\\\\Users\\\\erick\\\\Documents\\\\Uni\\\\Thesis\\\\delay-replanning-slack\\\\search\\\\buildDir\\\\atsipp.exe\"\"\", \"--start\", start, \"--goal\", end, \"--edgegraph\", \"output\", \"--search\", \"repeat\", \"--startTime\", str(move[\"startTime\"])], timeout=timeout, stdout=subprocess.PIPE, stderr=subprocess.DEVNULL)\n",
    "\n",
    "    except subprocess.TimeoutExpired:\n",
    "        pybooklogger.info(f'Timeout for repeat ({timeout}s) expired')\n",
    "        return\n",
    "    repeat_output = str(proc.stdout).split(\"'\")[1].rsplit(\"\\\\r\\\\n\")\n",
    "\n",
    "    # If the run was successful\n",
    "    if int(proc.returncode) == 0:\n",
    "        metadata, catf, paths, eatfs = parse_list_of_outputs(repeat_output)\n",
    "        pybooklogger.info(f\"eats: {eatfs}\")\n",
    "        pybooklogger.info(f\"cats: {catf}\")\n",
    "        label = label if label else f\"{max_buffer} seconds buffer time\"\n",
    "        plot_atf(catf, label, color, eatfs, fig, axs)"
   ],
   "id": "fee2b43d14d8ed",
   "outputs": [],
   "execution_count": 3
  },
  {
   "metadata": {
    "ExecuteTime": {
     "end_time": "2025-06-22T22:32:07.250184Z",
     "start_time": "2025-06-22T22:32:06.238886Z"
    }
   },
   "cell_type": "code",
   "source": [
    "# Run RePeAT to get multiple plans\n",
    "# scenario = \"../data/single_track/scenario_following.json\"\n",
    "scenario = \"../data/single_track/scenario_following.json\"\n",
    "layout =   \"../data/single_track/woho.json\"\n",
    "\n",
    "scenario_data = json.load(open(scenario))\n",
    "train_types = {x[\"name\"]: x for x in scenario_data[\"types\"]}\n",
    "agent_speed = 30\n",
    "max_buffer = 500\n",
    "\n",
    "widths = [4, 4, 4]\n",
    "heights = [4, 1]\n",
    "\n",
    "for agent in scenario_data['trains']:\n",
    "    # Get the global end time of scenario\n",
    "    scenario_end_time = 0\n",
    "    for i in range(len(agent[\"movements\"])):\n",
    "        move = agent[\"movements\"][i]\n",
    "        if 2 * move[\"endTime\"] > scenario_end_time:\n",
    "            scenario_end_time = 2 * move[\"endTime\"]\n",
    "    # agent_speed = train_types[agent[\"trainUnitTypes\"][0]][\"speed\"] * 1.09\n",
    "    for move in agent[\"movements\"]:\n",
    "        fig, axs = plt.subplots(ncols=3, nrows=2, gridspec_kw={\"height_ratios\": heights, \"width_ratios\": widths})\n",
    "        axs = axs.transpose()\n",
    "        generate_intervals(max_buffer, True,  layout, scenario, agent, agent_speed, move, fig, axs[:][2], color=\"green\", label=\"Recovery time\")\n",
    "        generate_intervals(max_buffer, False, layout, scenario, agent, agent_speed, move, fig, axs[:][1], color=\"blue\",  label=\"With buffer time\")\n",
    "        generate_intervals(0,          False, layout, scenario, agent, agent_speed, move, fig, axs[:][0], color=\"red\",   label=\"No flexibility\")\n",
    "\n",
    "        # generate_intervals(float(\"inf\"), True, layout, scenario, agent, 30, move, fig, axs, color=\"green\", label=\"v=30\")\n",
    "        # generate_intervals(float(\"inf\"), True, layout, scenario, agent, 20, move, fig, axs, color=\"blue\", label=\"v=20\")\n",
    "        # generate_intervals(float(\"inf\"), True, layout, scenario, agent, 10, move, fig, axs, color=\"red\", label=\"v=10\")\n",
    "        #\n",
    "        # Difference\n",
    "        # generate_intervals(1000, True, layout, scenario, agent, 30, move, fig, axs, color=\"green\", label=\"bt_max=1000\")\n",
    "        # generate_intervals(500,  True, layout, scenario, agent, 30, move, fig, axs, color=\"blue\",  label=\"bt_max=500\")\n",
    "        # generate_intervals(100,  True, layout, scenario, agent, 30, move, fig, axs, color=\"red\",   label=\"bt_max=100\")\n",
    "\n",
    "        # baseline\n",
    "\n",
    "        def set_axis(ax, title):\n",
    "\n",
    "            # title = f\"Agent: {agent['trainNumber']}\"\n",
    "            axs[ax][0].set_xlabel(\"Departure time (s)\")\n",
    "            axs[ax][1].set_xlabel(\"Departure time (s)\")\n",
    "            axs[ax][0].set_ylabel(\"Arrival time (s)\")\n",
    "            axs[ax][1].set_ylabel(\"Total delay of agents (s)\")\n",
    "            axs[ax][0].set_title(title)\n",
    "            # axs[0][0].legend()\n",
    "            axs[ax][0].grid()\n",
    "            axs[ax][1].grid()\n",
    "            # axs[0].set_xlim([-50, 2550])\n",
    "            # axs[1].set_xlim([-50, 2550])\n",
    "            # axs[1].set_ylim([-50, 500])\n",
    "            fig.set_figheight(7)\n",
    "            fig.set_figwidth(15)\n",
    "\n",
    "        set_axis(2, \"Recovery time\")\n",
    "        set_axis(1, \"Buffer time\")\n",
    "        set_axis(0, \"No flexibility\")\n",
    "        plt.savefig(f\"figures/atf_{agent['trainNumber']}\")\n",
    "        plt.show()\n",
    "        break\n",
    "    break\n",
    "\n"
   ],
   "id": "2f8115ab5c3eb538",
   "outputs": [
    {
     "name": "stderr",
     "output_type": "stream",
     "text": [
      "INFO:pybook: -------------------- Recovery time -------------------- \n"
     ]
    },
    {
     "ename": "KeyError",
     "evalue": "'t-14A'",
     "output_type": "error",
     "traceback": [
      "\u001B[1;31m---------------------------------------------------------------------------\u001B[0m",
      "\u001B[1;31mKeyError\u001B[0m                                  Traceback (most recent call last)",
      "Cell \u001B[1;32mIn[3], line 25\u001B[0m\n\u001B[0;32m     23\u001B[0m fig, axs \u001B[38;5;241m=\u001B[39m plt\u001B[38;5;241m.\u001B[39msubplots(ncols\u001B[38;5;241m=\u001B[39m\u001B[38;5;241m3\u001B[39m, nrows\u001B[38;5;241m=\u001B[39m\u001B[38;5;241m2\u001B[39m, gridspec_kw\u001B[38;5;241m=\u001B[39m{\u001B[38;5;124m\"\u001B[39m\u001B[38;5;124mheight_ratios\u001B[39m\u001B[38;5;124m\"\u001B[39m: heights, \u001B[38;5;124m\"\u001B[39m\u001B[38;5;124mwidth_ratios\u001B[39m\u001B[38;5;124m\"\u001B[39m: widths})\n\u001B[0;32m     24\u001B[0m axs \u001B[38;5;241m=\u001B[39m axs\u001B[38;5;241m.\u001B[39mtranspose()\n\u001B[1;32m---> 25\u001B[0m \u001B[43mgenerate_intervals\u001B[49m\u001B[43m(\u001B[49m\u001B[43mmax_buffer\u001B[49m\u001B[43m,\u001B[49m\u001B[43m \u001B[49m\u001B[38;5;28;43;01mTrue\u001B[39;49;00m\u001B[43m,\u001B[49m\u001B[43m  \u001B[49m\u001B[43mlayout\u001B[49m\u001B[43m,\u001B[49m\u001B[43m \u001B[49m\u001B[43mscenario\u001B[49m\u001B[43m,\u001B[49m\u001B[43m \u001B[49m\u001B[43magent\u001B[49m\u001B[43m,\u001B[49m\u001B[43m \u001B[49m\u001B[43magent_speed\u001B[49m\u001B[43m,\u001B[49m\u001B[43m \u001B[49m\u001B[43mmove\u001B[49m\u001B[43m,\u001B[49m\u001B[43m \u001B[49m\u001B[43mfig\u001B[49m\u001B[43m,\u001B[49m\u001B[43m \u001B[49m\u001B[43maxs\u001B[49m\u001B[43m[\u001B[49m\u001B[43m:\u001B[49m\u001B[43m]\u001B[49m\u001B[43m[\u001B[49m\u001B[38;5;241;43m2\u001B[39;49m\u001B[43m]\u001B[49m\u001B[43m,\u001B[49m\u001B[43m \u001B[49m\u001B[43mcolor\u001B[49m\u001B[38;5;241;43m=\u001B[39;49m\u001B[38;5;124;43m\"\u001B[39;49m\u001B[38;5;124;43mgreen\u001B[39;49m\u001B[38;5;124;43m\"\u001B[39;49m\u001B[43m,\u001B[49m\u001B[43m \u001B[49m\u001B[43mlabel\u001B[49m\u001B[38;5;241;43m=\u001B[39;49m\u001B[38;5;124;43m\"\u001B[39;49m\u001B[38;5;124;43mRecovery time\u001B[39;49m\u001B[38;5;124;43m\"\u001B[39;49m\u001B[43m)\u001B[49m\n\u001B[0;32m     26\u001B[0m generate_intervals(max_buffer, \u001B[38;5;28;01mFalse\u001B[39;00m, layout, scenario, agent, agent_speed, move, fig, axs[:][\u001B[38;5;241m1\u001B[39m], color\u001B[38;5;241m=\u001B[39m\u001B[38;5;124m\"\u001B[39m\u001B[38;5;124mblue\u001B[39m\u001B[38;5;124m\"\u001B[39m,  label\u001B[38;5;241m=\u001B[39m\u001B[38;5;124m\"\u001B[39m\u001B[38;5;124mWith buffer time\u001B[39m\u001B[38;5;124m\"\u001B[39m)\n\u001B[0;32m     27\u001B[0m generate_intervals(\u001B[38;5;241m0\u001B[39m,          \u001B[38;5;28;01mFalse\u001B[39;00m, layout, scenario, agent, agent_speed, move, fig, axs[:][\u001B[38;5;241m0\u001B[39m], color\u001B[38;5;241m=\u001B[39m\u001B[38;5;124m\"\u001B[39m\u001B[38;5;124mred\u001B[39m\u001B[38;5;124m\"\u001B[39m,   label\u001B[38;5;241m=\u001B[39m\u001B[38;5;124m\"\u001B[39m\u001B[38;5;124mNo flexibility\u001B[39m\u001B[38;5;124m\"\u001B[39m)\n",
      "Cell \u001B[1;32mIn[2], line 55\u001B[0m, in \u001B[0;36mgenerate_intervals\u001B[1;34m(max_buffer, use_recovery_time, layout, scenario, agent, agent_speed, move, fig, axs, color, label)\u001B[0m\n\u001B[0;32m     53\u001B[0m start \u001B[38;5;241m=\u001B[39m station_map[move[\u001B[38;5;124m\"\u001B[39m\u001B[38;5;124mstartLocation\u001B[39m\u001B[38;5;124m\"\u001B[39m]]   \u001B[38;5;28;01mif\u001B[39;00m move[\u001B[38;5;124m\"\u001B[39m\u001B[38;5;124mstartLocation\u001B[39m\u001B[38;5;124m\"\u001B[39m] \u001B[38;5;129;01min\u001B[39;00m station_map \u001B[38;5;28;01melse\u001B[39;00m move[\u001B[38;5;124m\"\u001B[39m\u001B[38;5;124mstartLocation\u001B[39m\u001B[38;5;124m\"\u001B[39m]\n\u001B[0;32m     54\u001B[0m end \u001B[38;5;241m=\u001B[39m   station_map[move[\u001B[38;5;124m\"\u001B[39m\u001B[38;5;124mendLocation\u001B[39m\u001B[38;5;124m\"\u001B[39m]]     \u001B[38;5;28;01mif\u001B[39;00m move[\u001B[38;5;124m\"\u001B[39m\u001B[38;5;124mendLocation\u001B[39m\u001B[38;5;124m\"\u001B[39m]   \u001B[38;5;129;01min\u001B[39;00m station_map \u001B[38;5;28;01melse\u001B[39;00m move[\u001B[38;5;124m\"\u001B[39m\u001B[38;5;124mendLocation\u001B[39m\u001B[38;5;124m\"\u001B[39m]\n\u001B[1;32m---> 55\u001B[0m \u001B[43mgenerate\u001B[49m\u001B[38;5;241;43m.\u001B[39;49m\u001B[43mtime_safe_intervals_and_write\u001B[49m\u001B[43m(\u001B[49m\u001B[43mlayout\u001B[49m\u001B[43m,\u001B[49m\u001B[43m \u001B[49m\u001B[43mscenario\u001B[49m\u001B[43m,\u001B[49m\u001B[43m \u001B[49m\u001B[38;5;241;43m-\u001B[39;49m\u001B[38;5;241;43m1\u001B[39;49m\u001B[43m,\u001B[49m\u001B[43m \u001B[49m\u001B[43magent_speed\u001B[49m\u001B[43m,\u001B[49m\u001B[43m \u001B[49m\u001B[38;5;124;43m\"\u001B[39;49m\u001B[38;5;124;43moutput\u001B[39;49m\u001B[38;5;124;43m\"\u001B[39;49m\u001B[43m,\u001B[49m\u001B[43m \u001B[49m\u001B[43mmax_buffer\u001B[49m\u001B[43m,\u001B[49m\u001B[43m \u001B[49m\u001B[43muse_recovery_time\u001B[49m\u001B[43m,\u001B[49m\u001B[43m \u001B[49m\u001B[43mdestination\u001B[49m\u001B[38;5;241;43m=\u001B[39;49m\u001B[43mend\u001B[49m\u001B[43m)\u001B[49m\n\u001B[0;32m     56\u001B[0m timeout \u001B[38;5;241m=\u001B[39m \u001B[38;5;241m600\u001B[39m\n\u001B[0;32m     57\u001B[0m \u001B[38;5;28;01mtry\u001B[39;00m:\n\u001B[0;32m     58\u001B[0m     \u001B[38;5;66;03m# proc = subprocess.run([\"atsipp.exe\", \"--start\", start, \"--goal\", \"r-14\", \"--edgegraph\", \"output\", \"--search\", \"repeat\", \"--startTime\", str(move[\"startTime\"])], timeout=20, stdout=subprocess.PIPE, stderr=subprocess.DEVNULL)\u001B[39;00m\n",
      "File \u001B[1;32m~\\Documents\\Uni\\Thesis\\delay-replanning-slack\\generation\\generate.py:86\u001B[0m, in \u001B[0;36mtime_safe_intervals_and_write\u001B[1;34m(location, scenario, agent_id, agent_speed, output, max_buffer_time, use_recovery_time, destination, plot)\u001B[0m\n\u001B[0;32m     84\u001B[0m buffer_times, recovery_times \u001B[38;5;241m=\u001B[39m flexibility(block_intervals, block_routes, max_buffer_time, use_recovery_time)\n\u001B[0;32m     85\u001B[0m start_time \u001B[38;5;241m=\u001B[39m time\u001B[38;5;241m.\u001B[39mtime()\n\u001B[1;32m---> 86\u001B[0m safe_block_intervals, safe_block_edges_intervals, atfs, _, indices_to_states \u001B[38;5;241m=\u001B[39m \u001B[43mcreate_safe_intervals\u001B[49m\u001B[43m(\u001B[49m\u001B[43mblock_intervals\u001B[49m\u001B[43m,\u001B[49m\u001B[43m \u001B[49m\u001B[43mg_block\u001B[49m\u001B[43m,\u001B[49m\u001B[43m \u001B[49m\u001B[43mbuffer_times\u001B[49m\u001B[43m,\u001B[49m\u001B[43m \u001B[49m\u001B[43mrecovery_times\u001B[49m\u001B[43m,\u001B[49m\u001B[43m \u001B[49m\u001B[43mdestination\u001B[49m\u001B[43m,\u001B[49m\u001B[43m \u001B[49m\u001B[38;5;28;43mfloat\u001B[39;49m\u001B[43m(\u001B[49m\u001B[43magent_speed\u001B[49m\u001B[43m)\u001B[49m\u001B[43m,\u001B[49m\u001B[43m \u001B[49m\u001B[43mprint_intervals\u001B[49m\u001B[38;5;241;43m=\u001B[39;49m\u001B[38;5;28;43;01mFalse\u001B[39;49;00m\u001B[43m)\u001B[49m\n\u001B[0;32m     87\u001B[0m safe_computation_time \u001B[38;5;241m=\u001B[39m time\u001B[38;5;241m.\u001B[39mtime() \u001B[38;5;241m-\u001B[39m start_time\n\u001B[0;32m     88\u001B[0m write_intervals_to_file(output, safe_block_intervals, atfs, indices_to_states)\n",
      "File \u001B[1;32m~\\Documents\\Uni\\Thesis\\delay-replanning-slack\\generation\\convert_to_safe_intervals.py:19\u001B[0m, in \u001B[0;36mcreate_safe_intervals\u001B[1;34m(intervals, g, buffer_times, recovery_times, destination, agent_speed, print_intervals)\u001B[0m\n\u001B[0;32m     16\u001B[0m indices_to_states \u001B[38;5;241m=\u001B[39m {}\n\u001B[0;32m     17\u001B[0m index \u001B[38;5;241m=\u001B[39m \u001B[38;5;241m0\u001B[39m\n\u001B[1;32m---> 19\u001B[0m heuristic \u001B[38;5;241m=\u001B[39m calculate_distances(g, \u001B[43mg\u001B[49m\u001B[38;5;241;43m.\u001B[39;49m\u001B[43mnodes\u001B[49m\u001B[43m[\u001B[49m\u001B[43mdestination\u001B[49m\u001B[43m]\u001B[49m)\n\u001B[0;32m     20\u001B[0m \u001B[38;5;66;03m# Create safe intervals from the unsafe node intervals\u001B[39;00m\n\u001B[0;32m     21\u001B[0m \u001B[38;5;66;03m# Also store the state indices\u001B[39;00m\n\u001B[0;32m     22\u001B[0m \u001B[38;5;28;01mfor\u001B[39;00m node \u001B[38;5;129;01min\u001B[39;00m g\u001B[38;5;241m.\u001B[39mnodes:\n",
      "\u001B[1;31mKeyError\u001B[0m: 't-14A'"
     ]
    },
    {
     "data": {
      "text/plain": [
       "<Figure size 640x480 with 6 Axes>"
      ],
      "image/png": "[encoded data removed]"
     },
     "metadata": {},
     "output_type": "display_data"
    }
   ],
   "execution_count": 3
  },
  {
   "metadata": {},
   "cell_type": "code",
   "source": [
    "generate.time_safe_intervals_and_write(layout, scenario, -1, agent_speed, \"output\", max_buffer, True, destination=\"r-14\", plot=1)\n",
    "generate.time_safe_intervals_and_write(layout, scenario, -1, agent_speed, \"output\", max_buffer, False, destination=\"r-14\", plot=1)\n",
    "generate.time_safe_intervals_and_write(layout, scenario, -1, agent_speed, \"output\", 0, False, destination=\"r-14\", plot=1)\n"
   ],
   "id": "a552482b9722cd93",
   "outputs": [],
   "execution_count": null
  },
  {
   "metadata": {
    "jupyter": {
     "is_executing": true
    },
    "ExecuteTime": {
     "start_time": "2025-06-22T22:43:57.726504Z"
    }
   },
   "cell_type": "code",
   "source": [
    "# Run RePeAT to get multiple plans\n",
    "# scenario = \"../data/single_track/scenario_toy.json\"\n",
    "scenario = \"../data/prorail/scenarios/scenario_sprinters.json\"\n",
    "layout =   \"../data/prorail/parsed/netherlands-schiphol.json\"\n",
    "\n",
    "scenario_data = json.load(open(scenario))\n",
    "train_types = {x[\"name\"]: x for x in scenario_data[\"types\"]}\n",
    "agent_speed = 30\n",
    "max_buffer = 500\n",
    "\n",
    "widths = [10]\n",
    "heights = [4, 1]\n",
    "\n",
    "for agent in scenario_data['trains']:\n",
    "    # Get the global end time of scenario\n",
    "    scenario_end_time = 0\n",
    "    for i in range(len(agent[\"movements\"])):\n",
    "        move = agent[\"movements\"][i]\n",
    "        if 2 * move[\"endTime\"] > scenario_end_time:\n",
    "            scenario_end_time = 2 * move[\"endTime\"]\n",
    "    # agent_speed = train_types[agent[\"trainUnitTypes\"][0]][\"speed\"] * 1.09\n",
    "    for move in agent[\"movements\"]:\n",
    "        fig, axs = plt.subplots(ncols=1, nrows=2, gridspec_kw={\"height_ratios\": heights, \"width_ratios\": widths})\n",
    "        axs = axs.transpose()\n",
    "        generate_intervals(max_buffer, True,  layout, scenario, agent, agent_speed, move, fig, axs, color=\"green\", label=\"Recovery time\")\n",
    "        generate_intervals(max_buffer, False, layout, scenario, agent, agent_speed, move, fig, axs, color=\"blue\",  label=\"With buffer time\")\n",
    "        generate_intervals(0,          False, layout, scenario, agent, agent_speed, move, fig, axs, color=\"red\",   label=\"No flexibility\")\n",
    "\n",
    "        # generate_intervals(float(\"inf\"), True, layout, scenario, agent, 30, move, fig, axs, color=\"green\", label=\"v=30\")\n",
    "        # generate_intervals(float(\"inf\"), True, layout, scenario, agent, 20, move, fig, axs, color=\"blue\", label=\"v=20\")\n",
    "        # generate_intervals(float(\"inf\"), True, layout, scenario, agent, 10, move, fig, axs, color=\"red\", label=\"v=10\")\n",
    "        #\n",
    "        # Difference\n",
    "        # generate_intervals(1000, True, layout, scenario, agent, 30, move, fig, axs, color=\"green\", label=\"bt_max=1000\")\n",
    "        # generate_intervals(500,  True, layout, scenario, agent, 30, move, fig, axs, color=\"blue\",  label=\"bt_max=500\")\n",
    "        # generate_intervals(100,  True, layout, scenario, agent, 30, move, fig, axs, color=\"red\",   label=\"bt_max=100\")\n",
    "\n",
    "        # baseline\n",
    "\n",
    "        def set_axis(ax, title):\n",
    "\n",
    "            # title = f\"Agent: {agent['trainNumber']}\"\n",
    "            axs[0].set_xlabel(\"Departure time (s)\")\n",
    "            axs[1].set_xlabel(\"Departure time (s)\")\n",
    "            axs[0].set_ylabel(\"Arrival time (s)\")\n",
    "            axs[1].set_ylabel(\"Total delay of agents (s)\")\n",
    "            axs[0].set_title(title)\n",
    "            # axs[0][0].legend()\n",
    "            axs[0].grid()\n",
    "            axs[1].grid()\n",
    "            # axs[0].set_xlim([-50, 2550])\n",
    "            # axs[1].set_xlim([-50, 2550])\n",
    "            # axs[1].set_ylim([-50, 500])\n",
    "        fig.set_figheight(7)\n",
    "        fig.set_figwidth(15)\n",
    "\n",
    "        # set_axis(2, \"Recovery time\")\n",
    "        # set_axis(1, \"Buffer time\")\n",
    "        set_axis(0, \"No flexibility\")\n",
    "        plt.savefig(f\"figures/atf_{agent['trainNumber']}\")\n",
    "        plt.show()\n",
    "        break\n",
    "    break\n",
    "\n"
   ],
   "id": "cf61b975889e527c",
   "outputs": [
    {
     "name": "stderr",
     "output_type": "stream",
     "text": [
      "INFO:pybook: -------------------- Recovery time -------------------- \n",
      "INFO:pybook:eats: {'r-Shl|1080;r-Shl|1098;r-Hfd_Shl|1757;r-Hfd_Shl|1771;r-Hfd|1106;r-Hfd|1132;r-Hfd|1148;r-Hfd|1202;r-Hfd|1228;r-Hfd_Ledn|1969;r-Hfd_Ledn|1971;r-Hfd_Ledn|1973;r-Hfd_Ledn|1975;r-Hfd_Ledn|1977;r-Hfd_Ledn|1979;r-Hfd_Ledn|1981;r-Hfd_Ledn|1983;r-Hfd_Ledn|1985;r-Hfd_Ledn|1987;r-Hfd_Ledn|1991;r-Ledn|1010;r-Ledn|1050;r-Ledn|1094;r-Gvm_Ledn|807;r-Gvm_Ledn|817;r-Gvm_Ledn|827;r-Gvm_Ledn|837;r-Gvm_Ledn|847;r-Gvm_Ledn|857;r-Gvm|158;r-Gvm|186;r-Laa|529;r-Laa|537;r-Laa|94;r-Gvc|5020;r-Gvc|5080': [('-inf', '0', '1.81005', '1406.43', [['0', '0', '0'], ['1.98307', '3.79312', '0'], ['0', '0', '0'], ['0', '0', '0'], ['0', '0', '0'], ['0', '0', '0']]), ('-inf', '1.81005', '7.30582', '1406.43', [['0', '0', '0'], ['3.79312', '9.28889', '0'], ['0', '0', '0'], ['0', '0', '0'], ['0', '0', '0'], ['0', '0', '0']]), ('-inf', '7.30582', '9.58095', '1406.43', [['0', '0', '0'], ['9.28889', '11.564', '0'], ['0', '0', '0'], ['0', '0', '0'], ['0', '0', '0'], ['0', '0', '0']]), ('-inf', '9.58095', '140.402', '1406.43', [['0', '0', '0'], ['11.564', '142.385', '0'], ['0', '0', '0'], ['0', '0', '0'], ['0', '0', '0'], ['0', '0', '0']])]}\n",
      "INFO:pybook:cats: [('-inf', '0', '1406.43', '1406.43'), ('0', '1.81005', '1406.43', '1408.24'), ('1.81005', '7.30582', '1408.24', '1413.74'), ('7.30582', '9.58095', '1413.74', '1416.01'), ('9.58095', '140.402', '1416.01', '1546.84'), ('140.402', 'inf', 'inf', 'inf')]\n",
      "INFO:pybook:0.0, 1.81005, [['0', '0', '0'], ['1.98307', '3.79312', '0'], ['0', '0', '0'], ['0', '0', '0'], ['0', '0', '0'], ['0', '0', '0']], [0.0, 1.98307, 0.0, 0.0, 0.0, 0.0] - [0.0, 3.79312, 0.0, 0.0, 0.0, 0.0]\n",
      "INFO:pybook:1.81005, 7.30582, [['0', '0', '0'], ['3.79312', '9.28889', '0'], ['0', '0', '0'], ['0', '0', '0'], ['0', '0', '0'], ['0', '0', '0']], [0.0, 3.79312, 0.0, 0.0, 0.0, 0.0] - [0.0, 9.28889, 0.0, 0.0, 0.0, 0.0]\n",
      "INFO:pybook:7.30584, 9.58095, [['0', '0', '0'], ['9.28889', '11.564', '0'], ['0', '0', '0'], ['0', '0', '0'], ['0', '0', '0'], ['0', '0', '0']], [0.0, 9.28889, 0.0, 0.0, 0.0, 0.0] - [0.0, 11.564, 0.0, 0.0, 0.0, 0.0]\n",
      "INFO:pybook:9.580999999999989, 140.402, [['0', '0', '0'], ['11.564', '142.385', '0'], ['0', '0', '0'], ['0', '0', '0'], ['0', '0', '0'], ['0', '0', '0']], [0.0, 11.564, 0.0, 0.0, 0.0, 0.0] - [0.0, 142.385, 0.0, 0.0, 0.0, 0.0]\n",
      "INFO:pybook: -------------------- With buffer time -------------------- \n",
      "INFO:pybook:eats: {'r-Shl|1080;r-Shl|1098;r-Hfd_Shl|1757;r-Hfd_Shl|1771;r-Hfd|1106;r-Hfd|1132;r-Hfd|1148;r-Hfd|1202;r-Hfd|1228;r-Hfd_Ledn|1969;r-Hfd_Ledn|1971;r-Hfd_Ledn|1973;r-Hfd_Ledn|1975;r-Hfd_Ledn|1977;r-Hfd_Ledn|1979;r-Hfd_Ledn|1981;r-Hfd_Ledn|1983;r-Hfd_Ledn|1985;r-Hfd_Ledn|1987;r-Hfd_Ledn|1991;r-Ledn|1010;r-Ledn|1050;r-Ledn|1094;r-Gvm_Ledn|807;r-Gvm_Ledn|817;r-Gvm_Ledn|827;r-Gvm_Ledn|837;r-Gvm_Ledn|847;r-Gvm_Ledn|857;r-Gvm|158;r-Gvm|186;r-Laa|529;r-Laa|537;r-Laa|94;r-Gvc|5020;r-Gvc|5080': [('-inf', '0', '3.6619', '1406.43', [['0', '0', '0'], ['67.6762', '71.3381', '0'], ['0', '0', '0'], ['0', '0', '0'], ['0', '0', '0'], ['0', '0', '0']]), ('-inf', '3.6619', '9.58095', '1406.43', [['0', '0', '0'], ['71.3381', '77.2571', '0'], ['0', '0', '0'], ['0', '0', '0'], ['0', '0', '0'], ['0', '0', '0']]), ('-inf', '9.58095', '101.667', '1406.43', [['0', '0', '0'], ['77.2571', '169.343', '0'], ['0', '0', '0'], ['0', '0', '0'], ['0', '0', '0'], ['0', '0', '0']])]}\n",
      "INFO:pybook:cats: [('-inf', '0', '1406.43', '1406.43'), ('0', '3.6619', '1406.43', '1410.1'), ('3.6619', '9.58095', '1410.1', '1416.01'), ('9.58095', '101.667', '1416.01', '1508.1'), ('101.667', 'inf', 'inf', 'inf')]\n",
      "INFO:pybook:0.0, 3.6619, [['0', '0', '0'], ['67.6762', '71.3381', '0'], ['0', '0', '0'], ['0', '0', '0'], ['0', '0', '0'], ['0', '0', '0']], [0.0, 67.6762, 0.0, 0.0, 0.0, 0.0] - [0.0, 71.3381, 0.0, 0.0, 0.0, 0.0]\n",
      "INFO:pybook:3.6619500000000027, 9.58095, [['0', '0', '0'], ['71.3381', '77.2571', '0'], ['0', '0', '0'], ['0', '0', '0'], ['0', '0', '0'], ['0', '0', '0']], [0.0, 71.3381, 0.0, 0.0, 0.0, 0.0] - [0.0, 77.2571, 0.0, 0.0, 0.0, 0.0]\n",
      "INFO:pybook:9.581100000000006, 101.667, [['0', '0', '0'], ['77.2571', '169.343', '0'], ['0', '0', '0'], ['0', '0', '0'], ['0', '0', '0'], ['0', '0', '0']], [0.0, 77.2571, 0.0, 0.0, 0.0, 0.0] - [0.0, 169.343, 0.0, 0.0, 0.0, 0.0]\n",
      "INFO:pybook: -------------------- No flexibility -------------------- \n"
     ]
    }
   ],
   "execution_count": null
  },
  {
   "metadata": {},
   "cell_type": "code",
   "source": [
    "generate.time_safe_intervals_and_write(layout, scenario, -1, agent_speed, \"output\", max_buffer, True, destination=\"r-Rtd|340\", plot=1)\n",
    "generate.time_safe_intervals_and_write(layout, scenario, -1, agent_speed, \"output\", max_buffer, False, destination=\"r-Rtd|340\", plot=1)\n",
    "generate.time_safe_intervals_and_write(layout, scenario, -1, agent_speed, \"output\", 0, False, destination=\"r-Rtd|340\", plot=1)"
   ],
   "id": "be3f1dada1d228cf",
   "outputs": [],
   "execution_count": null
  }
 ],
 "metadata": {
  "kernelspec": {
   "display_name": "Python 3",
   "language": "python",
   "name": "python3"
  },
  "language_info": {
   "codemirror_mode": {
    "name": "ipython",
    "version": 2
   },
   "file_extension": ".py",
   "mimetype": "text/x-python",
   "name": "python",
   "nbconvert_exporter": "python",
   "pygments_lexer": "ipython2",
   "version": "2.7.6"
  }
 },
 "nbformat": 4,
 "nbformat_minor": 5
}
