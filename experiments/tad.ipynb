{
 "cells": [
  {
   "cell_type": "code",
   "id": "initial_id",
   "metadata": {
    "collapsed": true
   },
   "source": [
    "import logging\n",
    "import os\n",
    "import pandas as pd\n",
    "import json\n",
    "\n",
    "from pathlib import Path\n",
    "\n",
    "%load_ext autoreload\n",
    "%autoreload 2\n",
    "\n",
    "# Disable logging of the program in the notebook\n",
    "os.environ[\"LOGLEVEL\"] = \"CRITICAL\"\n",
    "\n",
    "logging.basicConfig()\n",
    "logging.root.setLevel(logging.INFO)\n",
    "logging.basicConfig(level=logging.INFO)\n",
    "\n",
    "logger = logging.getLogger('__main__')\n",
    "logger.setLevel(os.environ.get(\"LOGLEVEL\", logging.FATAL))\n",
    "\n",
    "pybooklogger = logging.getLogger('pybook')\n",
    "pybooklogger.setLevel(logging.DEBUG)\n",
    "\n",
    "%aimport setup\n",
    "\n",
    "%load_ext autoreload\n",
    "%autoreload 2\n",
    "\n",
    "from setup import *"
   ],
   "outputs": [],
   "execution_count": null
  },
  {
   "metadata": {},
   "cell_type": "markdown",
   "source": [
    "# Track Layout\n",
    "Calculate the layout of the dutch railway system\n"
   ],
   "id": "10e60bbe9e78867a"
  },
  {
   "metadata": {},
   "cell_type": "code",
   "source": [
    "layout_file =   \"../data/prorail/parsed/netherlands-schiphol.json\"\n",
    "layout = Layout(layout_file)"
   ],
   "id": "3fac23e191ae3",
   "outputs": [],
   "execution_count": null
  },
  {
   "metadata": {},
   "cell_type": "code",
   "source": [
    "edges_df = pd.DataFrame({\"Outgoing routes\": [len(n.outgoing) for n in layout.g_block.nodes.values() if len(n.outgoing) <= 25]})\n",
    "hist = edges_df.hist(bins=25, )\n",
    "plt.xlabel(\"Number of outgoing routes\")\n",
    "plt.ylabel(\"Number of occurrences\")\n",
    "plt.show()"
   ],
   "id": "b449610276d9ed50",
   "outputs": [],
   "execution_count": null
  },
  {
   "metadata": {},
   "cell_type": "markdown",
   "source": [
    "# Experiment Runtime\n",
    "Take a route of an agent with many stops, and run from start to every stop as an experiment"
   ],
   "id": "6d27894762199f1a"
  },
  {
   "metadata": {},
   "cell_type": "code",
   "outputs": [],
   "execution_count": null,
   "source": [
    "scenario_file = \"../data/prorail/scenarios/SHL-2025-06-30.json\"\n",
    "try:\n",
    "    base_path = Path(__file__).parent\n",
    "    file_path = (base_path / scenario_file).resolve()\n",
    "    data = json.load(open(file_path))\n",
    "except:\n",
    "    data = json.load(open(scenario_file))\n",
    "types = {x[\"name\"]: x for x in data[\"types\"]}\n",
    "agents = []\n",
    "for trainNumber, entry in enumerate(data[\"trains\"]):\n",
    "    trainNumber += 1\n",
    "    move = entry[\"movements\"][0]\n",
    "    velocity = types[entry[\"trainUnitTypes\"][0]][\"speed\"] / 3.6\n",
    "\n",
    "    block_path = layout.get_path_for_agent(move, trainNumber, velocity)\n",
    "\n",
    "    agent = Agent(trainNumber, move[\"startLocation\"], move[\"endLocation\"], velocity, move[\"startTime\"],\n",
    "                  endTime=move[\"endTime\"],\n",
    "                  startTimeHuman=str(timedelta(seconds=move[\"startTime\"])),\n",
    "                  endTimeHuman=str(timedelta(seconds=move[\"endTime\"])),\n",
    "                  blockPath=block_path,\n",
    "                  trainNumber=entry[\"trainNumber\"],\n",
    "                  trainUnitTypes=entry[\"trainUnitTypes\"],\n",
    "                  stops=move[\"stops\"]\n",
    "    )\n",
    "    agents.append(agent)\n",
    "\n",
    "agent_df = pd.DataFrame([agent.__dict__ for agent in agents])\n",
    "agent_df['blockPathLength'] = agent_df['blockPath'].map(len)\n",
    "\n",
    "print(f\"total blocks in path: {agent_df['blockPathLength'].sum()}\")\n",
    "print(f\"total edges in graph: {edges_df['Outgoing routes'].sum()}\")\n",
    "\n",
    "agent_df"
   ],
   "id": "32faec8f308af12e"
  },
  {
   "metadata": {},
   "cell_type": "markdown",
   "source": "## Scenario",
   "id": "f790d43ecde3747"
  },
  {
   "metadata": {},
   "cell_type": "code",
   "source": [
    "scenario_file = \"../data/prorail/scenarios/SHL-2025-06-30-TAD.json\"\n",
    "series_3500o = agent_df.loc[(agent_df['trainNumber'].str.startswith(\"35\", na=False)) & (agent_df['trainNumber'].astype(int) % 2 == 1)]\n",
    "\n",
    "# This train would be at 2700 at GV|6, we will be replanning its path till ASDZ|2\n",
    "agent = series_3500o.iloc[1]\n",
    "series_3500o"
   ],
   "id": "7d8e2103b47182f6",
   "outputs": [],
   "execution_count": null
  },
  {
   "metadata": {},
   "cell_type": "code",
   "source": [
    "# Replan these agents, -1 is planning in a new agent\n",
    "agent_id = agent['id']\n",
    "scenario = Scenario(layout, scenario_file, agent_id)"
   ],
   "id": "448ff78977657fb3",
   "outputs": [],
   "execution_count": null
  },
  {
   "metadata": {},
   "cell_type": "markdown",
   "source": [
    "## Experiment\n",
    "Define an experiment for every stop, and the original start and stop\n"
   ],
   "id": "48a23fddb44f0b53"
  },
  {
   "metadata": {},
   "cell_type": "code",
   "source": [
    "# Setup experiment\n",
    "experiment_settings = [\n",
    "    {\n",
    "        \"start_time\": 2700.0,\n",
    "        \"origin\": \"GV|6\",\n",
    "        \"destination\": \"ASDZ|2\",\n",
    "        \"metadata\": {\n",
    "            \"offset\": 2,\n",
    "        }\n",
    "    },\n",
    "    {\n",
    "        \"start_time\": 2700.0,\n",
    "        \"origin\": \"GV|6\",\n",
    "        \"destination\": \"ASDZ|2\",\n",
    "        \"max_buffer_time\": 900,\n",
    "        \"metadata\": {\n",
    "            \"color\": \"Green\",\n",
    "            \"label\": \"Buffer time\",\n",
    "            \"offset\": 1,\n",
    "        }\n",
    "    }, {\n",
    "        \"start_time\": 2700.0,\n",
    "        \"origin\": \"GV|6\",\n",
    "        \"destination\": \"ASDZ|2\",\n",
    "        \"max_buffer_time\": 900,\n",
    "        \"use_recovery_time\": True,\n",
    "        \"metadata\": {\n",
    "            \"color\": \"Blue\",\n",
    "            \"label\": \"Recovery time\",\n",
    "        }\n",
    "    }\n",
    "]\n",
    "\n",
    "experiments = setup_experiment(scenario, experiment_settings, default_direction=1)"
   ],
   "id": "cee378ac67a3d620",
   "outputs": [],
   "execution_count": null
  },
  {
   "metadata": {},
   "cell_type": "markdown",
   "source": [
    "### Blocking staircase diagram\n",
    "Showing the route of the agent with the most stops, its quite long.\n"
   ],
   "id": "c086af2cdb38f7e0"
  },
  {
   "metadata": {},
   "cell_type": "code",
   "source": [
    "for exp in experiments:\n",
    "    exp.s.plot(agent_id, exp.buffer_times, exp.recovery_times, False)"
   ],
   "id": "8c1362474f1582be",
   "outputs": [],
   "execution_count": null
  },
  {
   "metadata": {},
   "cell_type": "code",
   "source": [
    "timeout = 600\n",
    "run_experiments(experiments, timeout)"
   ],
   "id": "4d50e56830c416d0",
   "outputs": [],
   "execution_count": null
  },
  {
   "metadata": {},
   "cell_type": "markdown",
   "source": "## Results\n",
   "id": "a06921c86e58dbc"
  },
  {
   "metadata": {},
   "cell_type": "markdown",
   "source": "### ATF Plot",
   "id": "fcc3b5d924537311"
  },
  {
   "metadata": {},
   "cell_type": "code",
   "outputs": [],
   "execution_count": null,
   "source": [
    "pybooklogger.setLevel(logging.WARNING)\n",
    "experiments[0].metadata = {'color': 'Red', 'label': 'No flexibility', 'offset': 5}\n",
    "experiments[1].metadata = {'color': 'Green', 'label': 'Buffer time', 'offset': 0}\n",
    "experiments[2].metadata = {'color': 'Blue', 'label': 'Recovery time', 'offset': -5}\n",
    "\n",
    "kwargs = {\"min_x\": 2700, \"max_x\": 3100, \"min_y\": 4250, \"max_y\": 5200, \"expected_arrival_time\": 4920}\n",
    "plot_experiments(experiments, **kwargs)\n",
    "\n",
    "experiments[0].metadata = {'color': 'Red', 'label': 'No flexibility', 'offset': 0}\n",
    "experiments[1].metadata = {'color': 'Green', 'label': 'Buffer time', 'offset': 0}\n",
    "experiments[2].metadata = {'color': 'Blue', 'label': 'Recovery time', 'offset': 0}\n",
    "\n",
    "plot_experiments([experiments[0]], **kwargs)\n",
    "plot_experiments([experiments[1]], **kwargs)\n",
    "plot_experiments([experiments[2]], **kwargs)"
   ],
   "id": "c5652032ee9ca23d"
  },
  {
   "metadata": {},
   "cell_type": "markdown",
   "source": "### Time statistics",
   "id": "c5d344d88e29c4bf"
  },
  {
   "metadata": {},
   "cell_type": "code",
   "source": [
    "def sum_cols(df1, cols, name):\n",
    "    df2 = df1.drop(columns=cols)\n",
    "    df2[name] = df1[cols].sum(axis=1)\n",
    "    return df2\n",
    "\n",
    "time_df = pd.DataFrame([exp.get_running_time() for exp in experiments], index=[exp.metadata['label'] for exp in experiments])\n",
    "\n",
    "setup_cols = [\"track graph creation\", \"routing graph creation\"]\n",
    "recompute_cols = [\"unsafe interval generation\", \"safe interval generation\", \"bt and crt generation\", \"converting routes to blocks\"]\n",
    "search_cols = [\"FlexSIPP search time\"]\n",
    "\n",
    "time_df = sum_cols(time_df, setup_cols, \"Setup Time\")\n",
    "time_df = sum_cols(time_df, recompute_cols, \"Recompute Time\")\n",
    "time_df = sum_cols(time_df, search_cols, \"Search Time\")\n",
    "time_df"
   ],
   "id": "e608f77d8785d47c",
   "outputs": [],
   "execution_count": null
  },
  {
   "metadata": {},
   "cell_type": "markdown",
   "source": "",
   "id": "f79b767975fef06e"
  },
  {
   "metadata": {},
   "cell_type": "markdown",
   "source": "### Search Node Statistics\n",
   "id": "1142aae3c2986a98"
  },
  {
   "metadata": {},
   "cell_type": "code",
   "source": [
    "nodes_df = pd.DataFrame([exp.get_complexity() for exp in experiments], index=[exp.metadata['label'] for exp in experiments])\n",
    "\n",
    "nodes_df"
   ],
   "id": "47a57c7bdc689a2f",
   "outputs": [],
   "execution_count": null
  },
  {
   "metadata": {},
   "cell_type": "markdown",
   "source": "### Output paths found\n",
   "id": "5a25d5efbeb35507"
  },
  {
   "metadata": {},
   "cell_type": "code",
   "source": [
    "for key, value in experiments[2].results[3].items():\n",
    "    delayed_trains = {i: v for i,v in enumerate(value[0][4]) if float(v[0]) > 0}\n",
    "    print(f\"{key.replace('r-', '')}\\nearliest departure: {int(min(float(value[0][1]), float(value[0][2])) / 60)}\\ndepart before: {int(float(value[0][2]) / 60)}\\narrive at: {int((float(value[0][1]) + float(value[0][3])) / 60)}\\ndelays trains: {delayed_trains}\")"
   ],
   "id": "e95ea61f1dda3c51",
   "outputs": [],
   "execution_count": null
  },
  {
   "metadata": {},
   "cell_type": "markdown",
   "source": "### Path statistics\n",
   "id": "55f8dc6e386227ab"
  },
  {
   "metadata": {},
   "cell_type": "code",
   "source": [
    "for exp in experiments:\n",
    "    print(f\"Differend paths found for {exp.metadata['label']}: {sum(exp.results[2].values())}\")"
   ],
   "id": "310d8cb8de6d492e",
   "outputs": [],
   "execution_count": null
  }
 ],
 "metadata": {
  "kernelspec": {
   "display_name": "Python 3",
   "language": "python",
   "name": "python3"
  },
  "language_info": {
   "codemirror_mode": {
    "name": "ipython",
    "version": 2
   },
   "file_extension": ".py",
   "mimetype": "text/x-python",
   "name": "python",
   "nbconvert_exporter": "python",
   "pygments_lexer": "ipython2",
   "version": "2.7.6"
  }
 },
 "nbformat": 4,
 "nbformat_minor": 5
}
